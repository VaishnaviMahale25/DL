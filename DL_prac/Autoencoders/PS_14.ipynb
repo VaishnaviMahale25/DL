{
 "cells": [
  {
   "cell_type": "markdown",
   "id": "0d532935-3a77-456e-bb73-046e52c17c3c",
   "metadata": {},
   "source": [
    "## Assignment 4\n",
    "    1. Name: Omkar Pawar\n",
    "    2. Batch: R-9\n",
    "    3. Roll No.: 43160\n",
    "    \n",
    "### Problem Statement :\n",
    "     ECG Anomaly detection using Autoencoders."
   ]
  },
  {
   "cell_type": "markdown",
   "id": "a637bfcf-6971-4255-99c9-e8a69f7f168c",
   "metadata": {},
   "source": [
    "### a. Importing required libraries"
   ]
  },
  {
   "cell_type": "code",
   "execution_count": 1,
   "id": "a624bac5-f34b-457f-b80d-66c272a34f6b",
   "metadata": {},
   "outputs": [],
   "source": [
    "import numpy as np\n",
    "import pandas as pd\n",
    "import tensorflow as tf\n",
    "import matplotlib.pyplot as plt\n",
    "from sklearn.metrics import accuracy_score\n",
    "from tensorflow.keras.optimizers import Adam\n",
    "from sklearn.preprocessing import MinMaxScaler\n",
    "from tensorflow.keras import Model, Sequential\n",
    "from tensorflow.keras.layers import Dense, Dropout\n",
    "from sklearn.model_selection import train_test_split\n",
    "from tensorflow.keras.losses import MeanSquaredLogarithmicError"
   ]
  },
  {
   "cell_type": "markdown",
   "id": "7ebd825f-852a-4e00-8d04-60ca2feb920f",
   "metadata": {},
   "source": [
    "### b. Upload/access database."
   ]
  },
  {
   "cell_type": "code",
   "execution_count": 2,
   "id": "0b8938cf-525c-43f4-8863-abd65162bdae",
   "metadata": {},
   "outputs": [
    {
     "data": {
      "text/html": [
       "<div>\n",
       "<style scoped>\n",
       "    .dataframe tbody tr th:only-of-type {\n",
       "        vertical-align: middle;\n",
       "    }\n",
       "\n",
       "    .dataframe tbody tr th {\n",
       "        vertical-align: top;\n",
       "    }\n",
       "\n",
       "    .dataframe thead th {\n",
       "        text-align: right;\n",
       "    }\n",
       "</style>\n",
       "<table border=\"1\" class=\"dataframe\">\n",
       "  <thead>\n",
       "    <tr style=\"text-align: right;\">\n",
       "      <th></th>\n",
       "      <th>0</th>\n",
       "      <th>1</th>\n",
       "      <th>2</th>\n",
       "      <th>3</th>\n",
       "      <th>4</th>\n",
       "      <th>5</th>\n",
       "      <th>6</th>\n",
       "      <th>7</th>\n",
       "      <th>8</th>\n",
       "      <th>9</th>\n",
       "      <th>...</th>\n",
       "      <th>131</th>\n",
       "      <th>132</th>\n",
       "      <th>133</th>\n",
       "      <th>134</th>\n",
       "      <th>135</th>\n",
       "      <th>136</th>\n",
       "      <th>137</th>\n",
       "      <th>138</th>\n",
       "      <th>139</th>\n",
       "      <th>140</th>\n",
       "    </tr>\n",
       "  </thead>\n",
       "  <tbody>\n",
       "    <tr>\n",
       "      <th>0</th>\n",
       "      <td>-0.112522</td>\n",
       "      <td>-2.827204</td>\n",
       "      <td>-3.773897</td>\n",
       "      <td>-4.349751</td>\n",
       "      <td>-4.376041</td>\n",
       "      <td>-3.474986</td>\n",
       "      <td>-2.181408</td>\n",
       "      <td>-1.818286</td>\n",
       "      <td>-1.250522</td>\n",
       "      <td>-0.477492</td>\n",
       "      <td>...</td>\n",
       "      <td>0.792168</td>\n",
       "      <td>0.933541</td>\n",
       "      <td>0.796958</td>\n",
       "      <td>0.578621</td>\n",
       "      <td>0.257740</td>\n",
       "      <td>0.228077</td>\n",
       "      <td>0.123431</td>\n",
       "      <td>0.925286</td>\n",
       "      <td>0.193137</td>\n",
       "      <td>1.0</td>\n",
       "    </tr>\n",
       "    <tr>\n",
       "      <th>1</th>\n",
       "      <td>-1.100878</td>\n",
       "      <td>-3.996840</td>\n",
       "      <td>-4.285843</td>\n",
       "      <td>-4.506579</td>\n",
       "      <td>-4.022377</td>\n",
       "      <td>-3.234368</td>\n",
       "      <td>-1.566126</td>\n",
       "      <td>-0.992258</td>\n",
       "      <td>-0.754680</td>\n",
       "      <td>0.042321</td>\n",
       "      <td>...</td>\n",
       "      <td>0.538356</td>\n",
       "      <td>0.656881</td>\n",
       "      <td>0.787490</td>\n",
       "      <td>0.724046</td>\n",
       "      <td>0.555784</td>\n",
       "      <td>0.476333</td>\n",
       "      <td>0.773820</td>\n",
       "      <td>1.119621</td>\n",
       "      <td>-1.436250</td>\n",
       "      <td>1.0</td>\n",
       "    </tr>\n",
       "    <tr>\n",
       "      <th>2</th>\n",
       "      <td>-0.567088</td>\n",
       "      <td>-2.593450</td>\n",
       "      <td>-3.874230</td>\n",
       "      <td>-4.584095</td>\n",
       "      <td>-4.187449</td>\n",
       "      <td>-3.151462</td>\n",
       "      <td>-1.742940</td>\n",
       "      <td>-1.490659</td>\n",
       "      <td>-1.183580</td>\n",
       "      <td>-0.394229</td>\n",
       "      <td>...</td>\n",
       "      <td>0.886073</td>\n",
       "      <td>0.531452</td>\n",
       "      <td>0.311377</td>\n",
       "      <td>-0.021919</td>\n",
       "      <td>-0.713683</td>\n",
       "      <td>-0.532197</td>\n",
       "      <td>0.321097</td>\n",
       "      <td>0.904227</td>\n",
       "      <td>-0.421797</td>\n",
       "      <td>1.0</td>\n",
       "    </tr>\n",
       "    <tr>\n",
       "      <th>3</th>\n",
       "      <td>0.490473</td>\n",
       "      <td>-1.914407</td>\n",
       "      <td>-3.616364</td>\n",
       "      <td>-4.318823</td>\n",
       "      <td>-4.268016</td>\n",
       "      <td>-3.881110</td>\n",
       "      <td>-2.993280</td>\n",
       "      <td>-1.671131</td>\n",
       "      <td>-1.333884</td>\n",
       "      <td>-0.965629</td>\n",
       "      <td>...</td>\n",
       "      <td>0.350816</td>\n",
       "      <td>0.499111</td>\n",
       "      <td>0.600345</td>\n",
       "      <td>0.842069</td>\n",
       "      <td>0.952074</td>\n",
       "      <td>0.990133</td>\n",
       "      <td>1.086798</td>\n",
       "      <td>1.403011</td>\n",
       "      <td>-0.383564</td>\n",
       "      <td>1.0</td>\n",
       "    </tr>\n",
       "    <tr>\n",
       "      <th>4</th>\n",
       "      <td>0.800232</td>\n",
       "      <td>-0.874252</td>\n",
       "      <td>-2.384761</td>\n",
       "      <td>-3.973292</td>\n",
       "      <td>-4.338224</td>\n",
       "      <td>-3.802422</td>\n",
       "      <td>-2.534510</td>\n",
       "      <td>-1.783423</td>\n",
       "      <td>-1.594450</td>\n",
       "      <td>-0.753199</td>\n",
       "      <td>...</td>\n",
       "      <td>1.148884</td>\n",
       "      <td>0.958434</td>\n",
       "      <td>1.059025</td>\n",
       "      <td>1.371682</td>\n",
       "      <td>1.277392</td>\n",
       "      <td>0.960304</td>\n",
       "      <td>0.971020</td>\n",
       "      <td>1.614392</td>\n",
       "      <td>1.421456</td>\n",
       "      <td>1.0</td>\n",
       "    </tr>\n",
       "  </tbody>\n",
       "</table>\n",
       "<p>5 rows × 141 columns</p>\n",
       "</div>"
      ],
      "text/plain": [
       "        0         1         2         3         4         5         6    \\\n",
       "0 -0.112522 -2.827204 -3.773897 -4.349751 -4.376041 -3.474986 -2.181408   \n",
       "1 -1.100878 -3.996840 -4.285843 -4.506579 -4.022377 -3.234368 -1.566126   \n",
       "2 -0.567088 -2.593450 -3.874230 -4.584095 -4.187449 -3.151462 -1.742940   \n",
       "3  0.490473 -1.914407 -3.616364 -4.318823 -4.268016 -3.881110 -2.993280   \n",
       "4  0.800232 -0.874252 -2.384761 -3.973292 -4.338224 -3.802422 -2.534510   \n",
       "\n",
       "        7         8         9    ...       131       132       133       134  \\\n",
       "0 -1.818286 -1.250522 -0.477492  ...  0.792168  0.933541  0.796958  0.578621   \n",
       "1 -0.992258 -0.754680  0.042321  ...  0.538356  0.656881  0.787490  0.724046   \n",
       "2 -1.490659 -1.183580 -0.394229  ...  0.886073  0.531452  0.311377 -0.021919   \n",
       "3 -1.671131 -1.333884 -0.965629  ...  0.350816  0.499111  0.600345  0.842069   \n",
       "4 -1.783423 -1.594450 -0.753199  ...  1.148884  0.958434  1.059025  1.371682   \n",
       "\n",
       "        135       136       137       138       139  140  \n",
       "0  0.257740  0.228077  0.123431  0.925286  0.193137  1.0  \n",
       "1  0.555784  0.476333  0.773820  1.119621 -1.436250  1.0  \n",
       "2 -0.713683 -0.532197  0.321097  0.904227 -0.421797  1.0  \n",
       "3  0.952074  0.990133  1.086798  1.403011 -0.383564  1.0  \n",
       "4  1.277392  0.960304  0.971020  1.614392  1.421456  1.0  \n",
       "\n",
       "[5 rows x 141 columns]"
      ]
     },
     "execution_count": 2,
     "metadata": {},
     "output_type": "execute_result"
    }
   ],
   "source": [
    "DATA = 'http://storage.googleapis.com/download.tensorflow.org/data/ecg.csv'\n",
    "data = pd.read_csv(DATA, header=None)\n",
    "data.head()"
   ]
  },
  {
   "cell_type": "code",
   "execution_count": 3,
   "id": "8ab86b07-db4e-4690-86bf-91183ad983ea",
   "metadata": {},
   "outputs": [
    {
     "data": {
      "text/plain": [
       "(4998, 141)"
      ]
     },
     "execution_count": 3,
     "metadata": {},
     "output_type": "execute_result"
    }
   ],
   "source": [
    "data.shape"
   ]
  },
  {
   "cell_type": "markdown",
   "id": "94123dea-b6ba-4ae6-a11d-01d6c5336748",
   "metadata": {},
   "source": [
    "#### Splitting training testing data"
   ]
  },
  {
   "cell_type": "code",
   "execution_count": 4,
   "id": "4346d59d-ec75-4f72-bc3d-eadeb31372ab",
   "metadata": {},
   "outputs": [],
   "source": [
    "features = data.drop(140, axis=1)\n",
    "target = data[140]\n",
    "x_train, x_test, y_train, y_test = train_test_split(\n",
    "    features, target, test_size=0.2, stratify=target\n",
    ")\n",
    "train_index = y_train[y_train == 1].index\n",
    "train_data = x_train.loc[train_index]"
   ]
  },
  {
   "cell_type": "code",
   "execution_count": 5,
   "id": "6a85f07d-4154-4875-969c-fd3031452b3b",
   "metadata": {},
   "outputs": [],
   "source": [
    "min_max_scaler = MinMaxScaler(feature_range=(0, 1))\n",
    "x_train_scaled = min_max_scaler.fit_transform(train_data.copy())\n",
    "x_test_scaled = min_max_scaler.transform(x_test.copy())"
   ]
  },
  {
   "cell_type": "markdown",
   "id": "11f136b3-31e0-4ee6-9a2a-7941dd35eefe",
   "metadata": {},
   "source": [
    "#### c. Encoder converts it into latent representation\n",
    "#### d. Decoder networks convert it back to the original input\n",
    "#### Creating autoencoder subclass by extending Model class from keras"
   ]
  },
  {
   "cell_type": "code",
   "execution_count": 6,
   "id": "4d7e5af4-05e9-47a6-a55e-8f3b756a676d",
   "metadata": {},
   "outputs": [],
   "source": [
    "class AutoEncoder(Model):\n",
    "  def __init__(self, output_units, ldim=8):\n",
    "    super().__init__()\n",
    "    self.encoder = Sequential([\n",
    "      Dense(64, activation='relu'),\n",
    "      Dropout(0.1),\n",
    "      Dense(32, activation='relu'),\n",
    "      Dropout(0.1),\n",
    "      Dense(16, activation='relu'),\n",
    "      Dropout(0.1),\n",
    "      Dense(ldim, activation='relu')\n",
    "    ])\n",
    "    self.decoder = Sequential([\n",
    "      Dense(16, activation='relu'),\n",
    "      Dropout(0.1),\n",
    "      Dense(32, activation='relu'),\n",
    "      Dropout(0.1),\n",
    "      Dense(64, activation='relu'),\n",
    "      Dropout(0.1),\n",
    "      Dense(output_units, activation='sigmoid')\n",
    "    ])\n",
    "\n",
    "  def call(self, inputs):\n",
    "    encoded = self.encoder(inputs)\n",
    "    decoded = self.decoder(encoded)\n",
    "    return decoded"
   ]
  },
  {
   "cell_type": "markdown",
   "id": "bbca9c53-91de-41db-a34d-a46ded713085",
   "metadata": {},
   "source": [
    "#### e. Compile the models with Optimizer, Loss, and Evaluation Metrics\n",
    "#### Model configuration"
   ]
  },
  {
   "cell_type": "code",
   "execution_count": 7,
   "id": "f47af5db-d4cf-4756-ab7b-83b23eee54c7",
   "metadata": {},
   "outputs": [
    {
     "name": "stdout",
     "output_type": "stream",
     "text": [
      "Epoch 1/20\n",
      "5/5 [==============================] - 1s 47ms/step - loss: 0.0108 - mse: 0.0243 - val_loss: 0.0129 - val_mse: 0.0298\n",
      "Epoch 2/20\n",
      "5/5 [==============================] - 0s 11ms/step - loss: 0.0105 - mse: 0.0236 - val_loss: 0.0126 - val_mse: 0.0292\n",
      "Epoch 3/20\n",
      "5/5 [==============================] - 0s 11ms/step - loss: 0.0098 - mse: 0.0221 - val_loss: 0.0122 - val_mse: 0.0282\n",
      "Epoch 4/20\n",
      "5/5 [==============================] - 0s 11ms/step - loss: 0.0087 - mse: 0.0194 - val_loss: 0.0119 - val_mse: 0.0274\n",
      "Epoch 5/20\n",
      "5/5 [==============================] - 0s 11ms/step - loss: 0.0076 - mse: 0.0169 - val_loss: 0.0116 - val_mse: 0.0267\n",
      "Epoch 6/20\n",
      "5/5 [==============================] - 0s 11ms/step - loss: 0.0066 - mse: 0.0147 - val_loss: 0.0111 - val_mse: 0.0254\n",
      "Epoch 7/20\n",
      "5/5 [==============================] - 0s 11ms/step - loss: 0.0060 - mse: 0.0134 - val_loss: 0.0108 - val_mse: 0.0248\n",
      "Epoch 8/20\n",
      "5/5 [==============================] - 0s 11ms/step - loss: 0.0057 - mse: 0.0126 - val_loss: 0.0106 - val_mse: 0.0242\n",
      "Epoch 9/20\n",
      "5/5 [==============================] - 0s 11ms/step - loss: 0.0054 - mse: 0.0120 - val_loss: 0.0103 - val_mse: 0.0237\n",
      "Epoch 10/20\n",
      "5/5 [==============================] - 0s 11ms/step - loss: 0.0052 - mse: 0.0115 - val_loss: 0.0101 - val_mse: 0.0233\n",
      "Epoch 11/20\n",
      "5/5 [==============================] - 0s 11ms/step - loss: 0.0050 - mse: 0.0111 - val_loss: 0.0100 - val_mse: 0.0229\n",
      "Epoch 12/20\n",
      "5/5 [==============================] - 0s 11ms/step - loss: 0.0049 - mse: 0.0109 - val_loss: 0.0098 - val_mse: 0.0226\n",
      "Epoch 13/20\n",
      "5/5 [==============================] - 0s 11ms/step - loss: 0.0048 - mse: 0.0107 - val_loss: 0.0097 - val_mse: 0.0223\n",
      "Epoch 14/20\n",
      "5/5 [==============================] - 0s 11ms/step - loss: 0.0047 - mse: 0.0106 - val_loss: 0.0096 - val_mse: 0.0222\n",
      "Epoch 15/20\n",
      "5/5 [==============================] - 0s 11ms/step - loss: 0.0047 - mse: 0.0105 - val_loss: 0.0096 - val_mse: 0.0221\n",
      "Epoch 16/20\n",
      "5/5 [==============================] - 0s 11ms/step - loss: 0.0046 - mse: 0.0104 - val_loss: 0.0096 - val_mse: 0.0221\n",
      "Epoch 17/20\n",
      "5/5 [==============================] - 0s 11ms/step - loss: 0.0046 - mse: 0.0103 - val_loss: 0.0095 - val_mse: 0.0220\n",
      "Epoch 18/20\n",
      "5/5 [==============================] - 0s 11ms/step - loss: 0.0046 - mse: 0.0102 - val_loss: 0.0095 - val_mse: 0.0220\n",
      "Epoch 19/20\n",
      "5/5 [==============================] - 0s 12ms/step - loss: 0.0045 - mse: 0.0101 - val_loss: 0.0095 - val_mse: 0.0219\n",
      "Epoch 20/20\n",
      "5/5 [==============================] - 0s 11ms/step - loss: 0.0045 - mse: 0.0101 - val_loss: 0.0095 - val_mse: 0.0218\n"
     ]
    }
   ],
   "source": [
    "model = AutoEncoder(output_units=x_train_scaled.shape[1])\n",
    "model.compile(loss='msle', metrics=['mse'], optimizer='adam')\n",
    "epochs = 20\n",
    "\n",
    "history = model.fit(\n",
    "    x_train_scaled,\n",
    "    x_train_scaled,\n",
    "    epochs=epochs,\n",
    "    batch_size=512,\n",
    "    validation_data=(x_test_scaled, x_test_scaled)\n",
    ")"
   ]
  },
  {
   "cell_type": "code",
   "execution_count": 8,
   "id": "53259677-653f-4032-be61-f9468a00b2f4",
   "metadata": {},
   "outputs": [
    {
     "data": {
      "image/png": "[encoded data removed]",
      "text/plain": [
       "<Figure size 640x480 with 1 Axes>"
      ]
     },
     "metadata": {},
     "output_type": "display_data"
    }
   ],
   "source": [
    "plt.plot(history.history['loss'])\n",
    "plt.plot(history.history['val_loss'])\n",
    "plt.xlabel('Epochs')\n",
    "plt.ylabel('MSLE Loss')\n",
    "plt.legend(['loss', 'val_loss'])\n",
    "plt.show()"
   ]
  },
  {
   "cell_type": "markdown",
   "id": "504b4a0e-db1e-4dd2-8bf8-0fb6722f48cb",
   "metadata": {},
   "source": [
    "#### Finding threshold for anomaly and doing predictions"
   ]
  },
  {
   "cell_type": "code",
   "execution_count": 9,
   "id": "68ceb15b-bffa-41d7-9641-0a62d2437057",
   "metadata": {},
   "outputs": [
    {
     "name": "stdout",
     "output_type": "stream",
     "text": [
      "73/73 [==============================] - 0s 847us/step\n",
      "Threshold: 0.009902066764435844\n"
     ]
    }
   ],
   "source": [
    "def find_threshold(model, x_train_scaled):\n",
    "  reconstructions = model.predict(x_train_scaled)\n",
    "  reconstruction_errors = tf.keras.losses.msle(reconstructions, x_train_scaled)\n",
    "  threshold = np.mean(reconstruction_errors.numpy()) \\\n",
    "   + np.std(reconstruction_errors.numpy())\n",
    "  return threshold\n",
    "\n",
    "def get_predictions(model, x_test_scaled, threshold):\n",
    "  predictions = model.predict(x_test_scaled)\n",
    "  errors = tf.keras.losses.msle(predictions, x_test_scaled)\n",
    "  anomaly_mask = pd.Series(errors) > threshold\n",
    "  preds = anomaly_mask.map(lambda x: 0.0 if x == True else 1.0)\n",
    "  return preds\n",
    "\n",
    "threshold = find_threshold(model, x_train_scaled)\n",
    "print(f\"Threshold: {threshold}\")"
   ]
  },
  {
   "cell_type": "markdown",
   "id": "f527b032-7064-445b-9cad-bc04b7937932",
   "metadata": {},
   "source": [
    "#### Getting accuracy score"
   ]
  },
  {
   "cell_type": "code",
   "execution_count": 10,
   "id": "1dffae26-80e4-415c-a410-703906bd6ae6",
   "metadata": {},
   "outputs": [
    {
     "name": "stdout",
     "output_type": "stream",
     "text": [
      "32/32 [==============================] - 0s 848us/step\n"
     ]
    },
    {
     "data": {
      "text/plain": [
       "0.955"
      ]
     },
     "execution_count": 10,
     "metadata": {},
     "output_type": "execute_result"
    }
   ],
   "source": [
    "predictions = get_predictions(model, x_test_scaled, threshold)\n",
    "accuracy_score(predictions, y_test)"
   ]
  }
 ],
 "metadata": {
  "kernelspec": {
   "display_name": "virtual_kernel",
   "language": "python",
   "name": "virtual_kernel"
  },
  "language_info": {
   "codemirror_mode": {
    "name": "ipython",
    "version": 3
   },
   "file_extension": ".py",
   "mimetype": "text/x-python",
   "name": "python",
   "nbconvert_exporter": "python",
   "pygments_lexer": "ipython3",
   "version": "3.11.5"
  }
 },
 "nbformat": 4,
 "nbformat_minor": 5
}
