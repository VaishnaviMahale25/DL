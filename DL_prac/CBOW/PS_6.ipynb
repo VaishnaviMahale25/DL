{
 "cells": [
  {
   "cell_type": "markdown",
   "id": "fcf44ab6-9fb5-499d-a114-68601db3d6bb",
   "metadata": {},
   "source": [
    "## Problem Statement 6\n",
    "\n",
    "### Implement the Continuous Bag of Words (CBOW) Model for the given (textual document 1) using the below steps: \n",
    "    a. Data preparation \n",
    "    b. Generate training data \n",
    "    c. Train model\n",
    "    d. Output"
   ]
  },
  {
   "cell_type": "markdown",
   "id": "4ab0f63e-d219-4ed6-92ab-09589661f38d",
   "metadata": {},
   "source": [
    "### Import necessary packages"
   ]
  },
  {
   "cell_type": "code",
   "execution_count": 1,
   "id": "314fadb8-fd25-46e0-8512-a6371e62fbf5",
   "metadata": {},
   "outputs": [],
   "source": [
    "from keras.preprocessing import text\n",
    "from keras.preprocessing import sequence\n",
    "from keras.preprocessing.text import Tokenizer\n",
    "from keras.preprocessing.sequence import pad_sequences\n",
    "from keras.src.utils import np_utils\n",
    "\n",
    "from keras import backend as K\n",
    "from keras.models import Sequential\n",
    "from keras.layers import Dense, Embedding, Lambda\n",
    "\n",
    "from sklearn.metrics.pairwise import euclidean_distances\n",
    "\n",
    "import numpy as np\n",
    "import pandas as pd"
   ]
  },
  {
   "cell_type": "code",
   "execution_count": 3,
   "id": "4e6fdb97-36cd-4b62-a961-fd5d4fc627a1",
   "metadata": {},
   "outputs": [],
   "source": [
    "data = \"\"\"Deep learning (also known as deep structured learning) is part of a \n",
    "broader family of machine learning methods based on artificial neural networks \n",
    "with representation learning. Learning can be supervised, semi-supervised or unsupervised.\n",
    "Deep-learning architectures such as deep neural networks, deep belief networks, \n",
    "deep reinforcement learning, recurrent neural networks, convolutional neural networks and \n",
    "Transformers have been applied to fields including computer vision, speech recognition, \n",
    "natural language processing, machine translation, bioinformatics, drug design, \n",
    "medical image analysis, climate science, material inspection and board game programs, \n",
    "where they have produced results comparable to and in some cases surpassing human expert performance.\n",
    "\"\"\"\n",
    "dl_data = data.split()"
   ]
  },
  {
   "cell_type": "markdown",
   "id": "1c2f1a60-aba8-4af0-89c2-2ecb767fd2ba",
   "metadata": {},
   "source": [
    "### a. Data preparation"
   ]
  },
  {
   "cell_type": "code",
   "execution_count": 55,
   "id": "a15d3358-6c24-41b4-b601-d095e81eb3d2",
   "metadata": {},
   "outputs": [
    {
     "name": "stdout",
     "output_type": "stream",
     "text": [
      "Vocabulary size:  75\n",
      "Vocabulary Sample:  [('learning', 1), ('deep', 2), ('networks', 3), ('neural', 4), ('and', 5), ('as', 6), ('of', 7), ('machine', 8), ('supervised', 9), ('have', 10)]\n"
     ]
    }
   ],
   "source": [
    "tokenizer=Tokenizer()\n",
    "tokenizer.fit_on_texts(dl_data)\n",
    "\n",
    "words2id=tokenizer.word_index\n",
    "words2id['PAD']=0\n",
    "\n",
    "id2words={v:k for k,v in words2id.items()}\n",
    "\n",
    "wids=[[words2id[w] for w in text.text_to_word_sequence(doc)] for doc in dl_data]\n",
    "\n",
    "vocab_size=len(words2id)\n",
    "embed_size=100\n",
    "window_size=2\n",
    "\n",
    "print(\"Vocabulary size: \", vocab_size)\n",
    "print(\"Vocabulary Sample: \", list(words2id.items())[:10])"
   ]
  },
  {
   "cell_type": "markdown",
   "id": "9b1ce980-6085-45a5-b9f7-40a0dfb08dd5",
   "metadata": {},
   "source": [
    "### b. Generate training data"
   ]
  },
  {
   "cell_type": "code",
   "execution_count": 61,
   "id": "39980ab0-1c6d-4798-be07-cf807233c4f3",
   "metadata": {},
   "outputs": [],
   "source": [
    "def generate_context_word_pair(corpus, window_size, vocab_size):\n",
    "    context_length=window_size*2\n",
    "\n",
    "    for words in corpus:\n",
    "        sentence_length = len(words)\n",
    "\n",
    "        for index, word in enumerate(words):\n",
    "            context_words = []\n",
    "            label_word = []\n",
    "            start = index - window_size\n",
    "            end = index + window_size + 1\n",
    "\n",
    "            context_words.append([words[i]\n",
    "                                 for i in range(start, end)\n",
    "                                 if 0 <=i <sentence_length\n",
    "                                 and i!= index])\n",
    "            label_word.append(word)\n",
    "\n",
    "            x = pad_sequences(context_words, maxlen = context_length)\n",
    "            y = np_utils.to_categorical(label_word, vocab_size)\n",
    "            yield (x,y)\n",
    "\n"
   ]
  },
  {
   "cell_type": "markdown",
   "id": "bd8a3a65-423a-4c68-8e47-edec1553b3d4",
   "metadata": {},
   "source": [
    "### c. Train Model"
   ]
  },
  {
   "cell_type": "code",
   "execution_count": 62,
   "id": "e8f1a8f7-cbea-4e7f-9e82-0052ea973522",
   "metadata": {},
   "outputs": [
    {
     "name": "stdout",
     "output_type": "stream",
     "text": [
      "Model: \"sequential_3\"\n",
      "_________________________________________________________________\n",
      " Layer (type)                Output Shape              Param #   \n",
      "=================================================================\n",
      " embedding_2 (Embedding)     (None, 4, 100)            7500      \n",
      "                                                                 \n",
      " lambda_2 (Lambda)           (None, 100)               0         \n",
      "                                                                 \n",
      " dense_2 (Dense)             (None, 75)                7575      \n",
      "                                                                 \n",
      "=================================================================\n",
      "Total params: 15075 (58.89 KB)\n",
      "Trainable params: 15075 (58.89 KB)\n",
      "Non-trainable params: 0 (0.00 Byte)\n",
      "_________________________________________________________________\n",
      "None\n"
     ]
    }
   ],
   "source": [
    "cbow=Sequential()\n",
    "cbow.add(Embedding(input_dim=vocab_size, output_dim=embed_size, input_length=window_size*2))\n",
    "cbow.add(Lambda(lambda x:K.mean(x, axis=1), output_shape=(embed_size,)))\n",
    "cbow.add(Dense(vocab_size, activation=\"softmax\"))\n",
    "\n",
    "\n",
    "cbow.compile(loss=\"categorical_crossentropy\", optimizer=\"rmsprop\")\n",
    "print(cbow.summary())"
   ]
  },
  {
   "cell_type": "code",
   "execution_count": 58,
   "id": "8341e043-ca07-41a7-aa31-b3e4f35ce2dc",
   "metadata": {},
   "outputs": [
    {
     "name": "stdout",
     "output_type": "stream",
     "text": [
      "Epoch: 1 \tLoss: 433.2113757133484\n",
      "\n",
      "Epoch: 2 \tLoss: 428.88651967048645\n",
      "\n",
      "Epoch: 3 \tLoss: 425.65926337242126\n",
      "\n",
      "Epoch: 4 \tLoss: 422.6268413066864\n",
      "\n",
      "Epoch: 5 \tLoss: 420.26561641693115\n",
      "\n"
     ]
    }
   ],
   "source": [
    "for epoch in range(1,6):\n",
    "    loss=0\n",
    "    i=0\n",
    "\n",
    "    for x,y in generate_context_word_pair(corpus=wids, window_size=window_size, vocab_size=vocab_size):\n",
    "        i+=1\n",
    "        loss+=cbow.train_on_batch(x,y)\n",
    "        if i % 100000 == 0:\n",
    "            print('Processed {} (context, word) pairs'.format(i))\n",
    "\n",
    "    print('Epoch:',epoch, '\\tLoss:', loss)\n",
    "    print()\n",
    "\n"
   ]
  },
  {
   "cell_type": "code",
   "execution_count": 59,
   "id": "5cbe847f-8fcf-4e34-af09-28da1fc2b3e0",
   "metadata": {},
   "outputs": [
    {
     "name": "stdout",
     "output_type": "stream",
     "text": [
      "(74, 100)\n"
     ]
    },
    {
     "data": {
      "text/html": [
       "<div>\n",
       "<style scoped>\n",
       "    .dataframe tbody tr th:only-of-type {\n",
       "        vertical-align: middle;\n",
       "    }\n",
       "\n",
       "    .dataframe tbody tr th {\n",
       "        vertical-align: top;\n",
       "    }\n",
       "\n",
       "    .dataframe thead th {\n",
       "        text-align: right;\n",
       "    }\n",
       "</style>\n",
       "<table border=\"1\" class=\"dataframe\">\n",
       "  <thead>\n",
       "    <tr style=\"text-align: right;\">\n",
       "      <th></th>\n",
       "      <th>0</th>\n",
       "      <th>1</th>\n",
       "      <th>2</th>\n",
       "      <th>3</th>\n",
       "      <th>4</th>\n",
       "      <th>5</th>\n",
       "      <th>6</th>\n",
       "      <th>7</th>\n",
       "      <th>8</th>\n",
       "      <th>9</th>\n",
       "      <th>...</th>\n",
       "      <th>90</th>\n",
       "      <th>91</th>\n",
       "      <th>92</th>\n",
       "      <th>93</th>\n",
       "      <th>94</th>\n",
       "      <th>95</th>\n",
       "      <th>96</th>\n",
       "      <th>97</th>\n",
       "      <th>98</th>\n",
       "      <th>99</th>\n",
       "    </tr>\n",
       "  </thead>\n",
       "  <tbody>\n",
       "    <tr>\n",
       "      <th>deep</th>\n",
       "      <td>-0.035250</td>\n",
       "      <td>-0.017182</td>\n",
       "      <td>-0.014591</td>\n",
       "      <td>-0.059133</td>\n",
       "      <td>-0.030444</td>\n",
       "      <td>-0.018133</td>\n",
       "      <td>0.014737</td>\n",
       "      <td>0.007353</td>\n",
       "      <td>0.020941</td>\n",
       "      <td>0.032662</td>\n",
       "      <td>...</td>\n",
       "      <td>0.030231</td>\n",
       "      <td>-0.032152</td>\n",
       "      <td>0.059530</td>\n",
       "      <td>0.027135</td>\n",
       "      <td>0.015601</td>\n",
       "      <td>-0.017077</td>\n",
       "      <td>0.065609</td>\n",
       "      <td>0.059204</td>\n",
       "      <td>-0.058002</td>\n",
       "      <td>0.020034</td>\n",
       "    </tr>\n",
       "    <tr>\n",
       "      <th>networks</th>\n",
       "      <td>-0.039052</td>\n",
       "      <td>-0.028336</td>\n",
       "      <td>0.053455</td>\n",
       "      <td>0.032577</td>\n",
       "      <td>0.030800</td>\n",
       "      <td>0.027040</td>\n",
       "      <td>0.004421</td>\n",
       "      <td>-0.050127</td>\n",
       "      <td>0.035925</td>\n",
       "      <td>-0.041192</td>\n",
       "      <td>...</td>\n",
       "      <td>-0.015013</td>\n",
       "      <td>-0.013109</td>\n",
       "      <td>0.027947</td>\n",
       "      <td>-0.050477</td>\n",
       "      <td>0.009925</td>\n",
       "      <td>-0.004569</td>\n",
       "      <td>-0.000745</td>\n",
       "      <td>-0.002495</td>\n",
       "      <td>-0.006544</td>\n",
       "      <td>0.022819</td>\n",
       "    </tr>\n",
       "    <tr>\n",
       "      <th>neural</th>\n",
       "      <td>-0.015448</td>\n",
       "      <td>0.004266</td>\n",
       "      <td>0.021796</td>\n",
       "      <td>-0.012649</td>\n",
       "      <td>0.030122</td>\n",
       "      <td>0.028571</td>\n",
       "      <td>-0.046028</td>\n",
       "      <td>-0.035076</td>\n",
       "      <td>0.008290</td>\n",
       "      <td>-0.031895</td>\n",
       "      <td>...</td>\n",
       "      <td>0.009841</td>\n",
       "      <td>-0.027353</td>\n",
       "      <td>0.006563</td>\n",
       "      <td>-0.013955</td>\n",
       "      <td>-0.049002</td>\n",
       "      <td>-0.041623</td>\n",
       "      <td>0.006230</td>\n",
       "      <td>-0.019244</td>\n",
       "      <td>-0.027475</td>\n",
       "      <td>-0.025156</td>\n",
       "    </tr>\n",
       "    <tr>\n",
       "      <th>and</th>\n",
       "      <td>-0.044523</td>\n",
       "      <td>-0.034967</td>\n",
       "      <td>-0.034630</td>\n",
       "      <td>0.003425</td>\n",
       "      <td>0.038434</td>\n",
       "      <td>-0.026311</td>\n",
       "      <td>-0.013805</td>\n",
       "      <td>-0.014041</td>\n",
       "      <td>0.041481</td>\n",
       "      <td>0.042669</td>\n",
       "      <td>...</td>\n",
       "      <td>-0.011139</td>\n",
       "      <td>0.000411</td>\n",
       "      <td>-0.002457</td>\n",
       "      <td>-0.003976</td>\n",
       "      <td>0.047401</td>\n",
       "      <td>0.041385</td>\n",
       "      <td>-0.047281</td>\n",
       "      <td>-0.039385</td>\n",
       "      <td>0.003109</td>\n",
       "      <td>0.014924</td>\n",
       "    </tr>\n",
       "    <tr>\n",
       "      <th>as</th>\n",
       "      <td>-0.034920</td>\n",
       "      <td>-0.001912</td>\n",
       "      <td>0.022261</td>\n",
       "      <td>0.002947</td>\n",
       "      <td>0.027355</td>\n",
       "      <td>0.033859</td>\n",
       "      <td>0.039777</td>\n",
       "      <td>0.031998</td>\n",
       "      <td>-0.047989</td>\n",
       "      <td>-0.015527</td>\n",
       "      <td>...</td>\n",
       "      <td>0.039581</td>\n",
       "      <td>0.030206</td>\n",
       "      <td>0.016534</td>\n",
       "      <td>-0.005382</td>\n",
       "      <td>0.045003</td>\n",
       "      <td>-0.018945</td>\n",
       "      <td>0.035311</td>\n",
       "      <td>0.039242</td>\n",
       "      <td>-0.048324</td>\n",
       "      <td>0.003846</td>\n",
       "    </tr>\n",
       "  </tbody>\n",
       "</table>\n",
       "<p>5 rows × 100 columns</p>\n",
       "</div>"
      ],
      "text/plain": [
       "                0         1         2         3         4         5   \\\n",
       "deep     -0.035250 -0.017182 -0.014591 -0.059133 -0.030444 -0.018133   \n",
       "networks -0.039052 -0.028336  0.053455  0.032577  0.030800  0.027040   \n",
       "neural   -0.015448  0.004266  0.021796 -0.012649  0.030122  0.028571   \n",
       "and      -0.044523 -0.034967 -0.034630  0.003425  0.038434 -0.026311   \n",
       "as       -0.034920 -0.001912  0.022261  0.002947  0.027355  0.033859   \n",
       "\n",
       "                6         7         8         9   ...        90        91  \\\n",
       "deep      0.014737  0.007353  0.020941  0.032662  ...  0.030231 -0.032152   \n",
       "networks  0.004421 -0.050127  0.035925 -0.041192  ... -0.015013 -0.013109   \n",
       "neural   -0.046028 -0.035076  0.008290 -0.031895  ...  0.009841 -0.027353   \n",
       "and      -0.013805 -0.014041  0.041481  0.042669  ... -0.011139  0.000411   \n",
       "as        0.039777  0.031998 -0.047989 -0.015527  ...  0.039581  0.030206   \n",
       "\n",
       "                92        93        94        95        96        97  \\\n",
       "deep      0.059530  0.027135  0.015601 -0.017077  0.065609  0.059204   \n",
       "networks  0.027947 -0.050477  0.009925 -0.004569 -0.000745 -0.002495   \n",
       "neural    0.006563 -0.013955 -0.049002 -0.041623  0.006230 -0.019244   \n",
       "and      -0.002457 -0.003976  0.047401  0.041385 -0.047281 -0.039385   \n",
       "as        0.016534 -0.005382  0.045003 -0.018945  0.035311  0.039242   \n",
       "\n",
       "                98        99  \n",
       "deep     -0.058002  0.020034  \n",
       "networks -0.006544  0.022819  \n",
       "neural   -0.027475 -0.025156  \n",
       "and       0.003109  0.014924  \n",
       "as       -0.048324  0.003846  \n",
       "\n",
       "[5 rows x 100 columns]"
      ]
     },
     "execution_count": 59,
     "metadata": {},
     "output_type": "execute_result"
    }
   ],
   "source": [
    "weights=cbow.get_weights()[0]\n",
    "weights = weights[1:]\n",
    "print(weights.shape)\n",
    "\n",
    "pd.DataFrame(weights, index=list(id2words.values())[1:]).head()"
   ]
  },
  {
   "cell_type": "markdown",
   "id": "6a237a31-4b23-46c8-8ed2-7466302061f3",
   "metadata": {},
   "source": [
    "### d. Output"
   ]
  },
  {
   "cell_type": "code",
   "execution_count": 75,
   "id": "2ba58a5e-b2dc-40f0-afa3-741b3757ee9b",
   "metadata": {},
   "outputs": [
    {
     "name": "stdout",
     "output_type": "stream",
     "text": [
      "(74, 74)\n"
     ]
    },
    {
     "name": "stdin",
     "output_type": "stream",
     "text": [
      " deep\n"
     ]
    },
    {
     "data": {
      "text/plain": [
       "{'deep': ['learning',\n",
       "  'recurrent',\n",
       "  'networks',\n",
       "  'natural',\n",
       "  'based',\n",
       "  'transformers']}"
      ]
     },
     "execution_count": 75,
     "metadata": {},
     "output_type": "execute_result"
    }
   ],
   "source": [
    "distance_matrix = euclidean_distances(weights)\n",
    "print(distance_matrix.shape)\n",
    "\n",
    "inwords = input()\n",
    "\n",
    "similar_words = {search_term: [id2words[idx] for idx in distance_matrix[words2id[search_term]-1].argsort()[0:6]]\n",
    "                   for search_term in {inwords}}\n",
    "\n",
    "similar_words"
   ]
  },
  {
   "cell_type": "code",
   "execution_count": null,
   "id": "b2674d5f-d3b8-49af-8f0b-28b570ff67ab",
   "metadata": {},
   "outputs": [],
   "source": []
  }
 ],
 "metadata": {
  "kernelspec": {
   "display_name": "virtual_kernel",
   "language": "python",
   "name": "virtual_kernel"
  },
  "language_info": {
   "codemirror_mode": {
    "name": "ipython",
    "version": 3
   },
   "file_extension": ".py",
   "mimetype": "text/x-python",
   "name": "python",
   "nbconvert_exporter": "python",
   "pygments_lexer": "ipython3",
   "version": "3.11.5"
  }
 },
 "nbformat": 4,
 "nbformat_minor": 5
}
