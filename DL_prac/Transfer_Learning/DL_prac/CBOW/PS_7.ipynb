{
 "cells": [
  {
   "cell_type": "markdown",
   "id": "7a31cb7b-5463-41b8-89f3-80c97826bbb4",
   "metadata": {},
   "source": [
    "## Problem Statement 7\n",
    "### Implement the Continuous Bag of Words (CBOW) Model for the given (textual document 2) using the below steps: \n",
    "    a. Data preparation \n",
    "    b. Generate training data \n",
    "    c. Train model\n",
    "    d. Output"
   ]
  },
  {
   "cell_type": "code",
   "execution_count": 1,
   "id": "548f4fd4-7443-4cc7-b95d-4c76df89b18c",
   "metadata": {},
   "outputs": [],
   "source": [
    "from keras.preprocessing import text\n",
    "from keras.preprocessing import sequence\n",
    "from keras.preprocessing.text import Tokenizer\n",
    "from keras.preprocessing.sequence import pad_sequences\n",
    "from keras.src.utils import np_utils\n",
    "\n",
    "from keras.models import Sequential\n",
    "from keras.layers import Dense, Embedding, Lambda\n",
    "from keras import backend as K\n",
    "\n",
    "from sklearn.metrics.pairwise import euclidean_distances\n",
    "\n",
    "import numpy as np\n",
    "import pandas as pd"
   ]
  },
  {
   "cell_type": "code",
   "execution_count": 9,
   "id": "2684cca7-618b-4922-b0f3-d483bdecd75e",
   "metadata": {},
   "outputs": [],
   "source": [
    "data=\"\"\"But I must explain to you how all this mistaken idea of denouncing pleasure and praising pain was born and I will give you a complete account of the system, and expound the actual teachings of the great explorer of the truth, the master-builder of human happiness. No one rejects, dislikes, or avoids pleasure itself, because it is pleasure, but because those who do not know how to pursue pleasure rationally encounter consequences that are extremely painful. Nor again is there anyone who loves or pursues or desires to obtain pain of itself, because it is pain, but because occasionally circumstances occur in which toil and pain can procure him some great pleasure. To take a trivial example, which of us ever undertakes laborious physical exercise, except to obtain some advantage from it? But who has any right to find fault with a man who chooses to enjoy a pleasure that has no annoying consequences, or one who avoids a pain that produces no resultant pleasure?\"\"\"\n",
    "\n",
    "dl_data=data.split()"
   ]
  },
  {
   "cell_type": "markdown",
   "id": "47a2a2e4-6fd5-47e7-bae0-acd04bca3a50",
   "metadata": {},
   "source": [
    "## a. Data preparation"
   ]
  },
  {
   "cell_type": "code",
   "execution_count": 11,
   "id": "ed1ad1f1-6fff-4828-8c1e-31580ca9e043",
   "metadata": {},
   "outputs": [],
   "source": [
    "tokenizer = Tokenizer()\n",
    "tokenizer.fit_on_texts(dl_data)\n",
    "\n",
    "words2id = tokenizer.word_index\n",
    "words2id['PAD']=0\n",
    "\n",
    "id2words = {v:k for k,v in words2id.items()}\n",
    "\n",
    "wids = [[words2id[w] for w in text.text_to_word_sequence(doc)] for doc in dl_data]\n",
    "\n",
    "vocab_size=len(words2id)\n",
    "embed_size=100\n",
    "window_size=2"
   ]
  },
  {
   "cell_type": "code",
   "execution_count": 15,
   "id": "1929a8fa-c3c6-416b-a283-725f239241b4",
   "metadata": {},
   "outputs": [
    {
     "name": "stdout",
     "output_type": "stream",
     "text": [
      "Vocabulary size:  102\n",
      "Vocabulary items:  [('to', 1), ('of', 2), ('pleasure', 3), ('pain', 4), ('a', 5), ('the', 6), ('who', 7), ('but', 8), ('and', 9), ('or', 10)]\n"
     ]
    }
   ],
   "source": [
    "print(\"Vocabulary size: \", vocab_size)\n",
    "print(\"Vocabulary items: \", list(words2id.items())[:10])"
   ]
  },
  {
   "cell_type": "markdown",
   "id": "1a202f40-f7fc-4351-96ce-efeb2be2b16b",
   "metadata": {},
   "source": [
    "## b. Generating training data"
   ]
  },
  {
   "cell_type": "code",
   "execution_count": 21,
   "id": "a181c722-8bbd-4c3e-ada1-ac6a7298936c",
   "metadata": {},
   "outputs": [],
   "source": [
    "def pairwise(corpus, window_size, vocab_size):\n",
    "    context_length=window_size*2\n",
    "\n",
    "    for words in corpus:\n",
    "        sentence_length=len(words)\n",
    "        for index, word in enumerate(words):\n",
    "            context_words=[]\n",
    "            label_word=[]\n",
    "            start = index - window_size\n",
    "            end = index + window_size + 1\n",
    "\n",
    "            context_words.append([words[i]\n",
    "                                 for i in range(start, end)\n",
    "                                 if 0 <= i < sentence_length\n",
    "                                 and i != index])\n",
    "            label_word.append(word)\n",
    "\n",
    "            x = pad_sequences(context_words, maxlen=context_length)\n",
    "            y = np_utils.to_categorical(label_word, vocab_size)\n",
    "            yield(x,y)"
   ]
  },
  {
   "cell_type": "markdown",
   "id": "f4cf5938-a1b4-4dce-ac6f-0cf05087ae00",
   "metadata": {},
   "source": [
    "## c. Training the model"
   ]
  },
  {
   "cell_type": "code",
   "execution_count": 22,
   "id": "99f5fa08-deee-48ca-85dc-a5e6ae5e700c",
   "metadata": {},
   "outputs": [],
   "source": [
    "cbow = Sequential()\n",
    "\n",
    "cbow.add(Embedding(input_dim = vocab_size, output_dim = embed_size, input_length = window_size * 2))\n",
    "cbow.add(Lambda(lambda x:K.mean(x, axis = 1), output_shape=(embed_size,)))\n",
    "cbow.add(Dense(vocab_size, activation=\"softmax\"))\n",
    "\n",
    "cbow.compile(loss=\"categorical_crossentropy\", optimizer=\"rmsprop\")"
   ]
  },
  {
   "cell_type": "code",
   "execution_count": 23,
   "id": "6b4b3f3a-ce4f-49ac-ba7c-d345b4bb1a36",
   "metadata": {},
   "outputs": [
    {
     "name": "stdout",
     "output_type": "stream",
     "text": [
      "Model: \"sequential_1\"\n",
      "_________________________________________________________________\n",
      " Layer (type)                Output Shape              Param #   \n",
      "=================================================================\n",
      " embedding_1 (Embedding)     (None, 4, 100)            10200     \n",
      "                                                                 \n",
      " lambda_1 (Lambda)           (None, 100)               0         \n",
      "                                                                 \n",
      " dense_1 (Dense)             (None, 102)               10302     \n",
      "                                                                 \n",
      "=================================================================\n",
      "Total params: 20502 (80.09 KB)\n",
      "Trainable params: 20502 (80.09 KB)\n",
      "Non-trainable params: 0 (0.00 Byte)\n",
      "_________________________________________________________________\n",
      "None\n"
     ]
    }
   ],
   "source": [
    "print(cbow.summary())"
   ]
  },
  {
   "cell_type": "code",
   "execution_count": 32,
   "id": "f3e26938-c8a4-4d58-be02-897a213b15eb",
   "metadata": {},
   "outputs": [
    {
     "name": "stdout",
     "output_type": "stream",
     "text": [
      "Epoch: 1 Loss: 737.1148734092712\n",
      "\n",
      "Epoch: 2 Loss: 737.2973875999451\n",
      "\n",
      "Epoch: 3 Loss: 737.4923667907715\n",
      "\n",
      "Epoch: 4 Loss: 737.6964325904846\n",
      "\n",
      "Epoch: 5 Loss: 737.9069187641144\n",
      "\n"
     ]
    }
   ],
   "source": [
    "for epoch in range(1,6):\n",
    "    loss=0\n",
    "\n",
    "    for x,y in pairwise(corpus=wids, window_size=window_size, vocab_size=vocab_size):\n",
    "        loss += cbow.train_on_batch(x, y)\n",
    "    print(\"Epoch: {} Loss: {}\".format(epoch,loss))\n",
    "    print()"
   ]
  },
  {
   "cell_type": "code",
   "execution_count": 34,
   "id": "785e035d-882e-4942-b565-048bc5402274",
   "metadata": {},
   "outputs": [
    {
     "name": "stdout",
     "output_type": "stream",
     "text": [
      "(101, 100)\n"
     ]
    },
    {
     "data": {
      "text/html": [
       "<div>\n",
       "<style scoped>\n",
       "    .dataframe tbody tr th:only-of-type {\n",
       "        vertical-align: middle;\n",
       "    }\n",
       "\n",
       "    .dataframe tbody tr th {\n",
       "        vertical-align: top;\n",
       "    }\n",
       "\n",
       "    .dataframe thead th {\n",
       "        text-align: right;\n",
       "    }\n",
       "</style>\n",
       "<table border=\"1\" class=\"dataframe\">\n",
       "  <thead>\n",
       "    <tr style=\"text-align: right;\">\n",
       "      <th></th>\n",
       "      <th>0</th>\n",
       "      <th>1</th>\n",
       "      <th>2</th>\n",
       "      <th>3</th>\n",
       "      <th>4</th>\n",
       "      <th>5</th>\n",
       "      <th>6</th>\n",
       "      <th>7</th>\n",
       "      <th>8</th>\n",
       "      <th>9</th>\n",
       "      <th>...</th>\n",
       "      <th>90</th>\n",
       "      <th>91</th>\n",
       "      <th>92</th>\n",
       "      <th>93</th>\n",
       "      <th>94</th>\n",
       "      <th>95</th>\n",
       "      <th>96</th>\n",
       "      <th>97</th>\n",
       "      <th>98</th>\n",
       "      <th>99</th>\n",
       "    </tr>\n",
       "  </thead>\n",
       "  <tbody>\n",
       "    <tr>\n",
       "      <th>of</th>\n",
       "      <td>0.033338</td>\n",
       "      <td>0.016119</td>\n",
       "      <td>0.042000</td>\n",
       "      <td>0.009823</td>\n",
       "      <td>0.006772</td>\n",
       "      <td>0.012067</td>\n",
       "      <td>-0.010208</td>\n",
       "      <td>0.027159</td>\n",
       "      <td>0.049581</td>\n",
       "      <td>-0.015044</td>\n",
       "      <td>...</td>\n",
       "      <td>0.009810</td>\n",
       "      <td>0.026618</td>\n",
       "      <td>0.003227</td>\n",
       "      <td>-0.041501</td>\n",
       "      <td>0.001702</td>\n",
       "      <td>0.004501</td>\n",
       "      <td>-0.046012</td>\n",
       "      <td>-0.009292</td>\n",
       "      <td>0.045391</td>\n",
       "      <td>-0.037099</td>\n",
       "    </tr>\n",
       "    <tr>\n",
       "      <th>pleasure</th>\n",
       "      <td>0.007007</td>\n",
       "      <td>0.030600</td>\n",
       "      <td>0.015222</td>\n",
       "      <td>-0.042876</td>\n",
       "      <td>0.000134</td>\n",
       "      <td>-0.045702</td>\n",
       "      <td>0.027381</td>\n",
       "      <td>-0.034875</td>\n",
       "      <td>0.018496</td>\n",
       "      <td>0.015829</td>\n",
       "      <td>...</td>\n",
       "      <td>-0.007084</td>\n",
       "      <td>0.016335</td>\n",
       "      <td>-0.043365</td>\n",
       "      <td>-0.047175</td>\n",
       "      <td>-0.029347</td>\n",
       "      <td>-0.017310</td>\n",
       "      <td>-0.036235</td>\n",
       "      <td>-0.025692</td>\n",
       "      <td>0.001691</td>\n",
       "      <td>0.034270</td>\n",
       "    </tr>\n",
       "    <tr>\n",
       "      <th>pain</th>\n",
       "      <td>0.015987</td>\n",
       "      <td>0.047232</td>\n",
       "      <td>-0.030371</td>\n",
       "      <td>0.016748</td>\n",
       "      <td>0.029407</td>\n",
       "      <td>0.027022</td>\n",
       "      <td>0.044325</td>\n",
       "      <td>0.016189</td>\n",
       "      <td>0.047599</td>\n",
       "      <td>-0.048728</td>\n",
       "      <td>...</td>\n",
       "      <td>-0.009575</td>\n",
       "      <td>0.007568</td>\n",
       "      <td>-0.036283</td>\n",
       "      <td>0.046010</td>\n",
       "      <td>0.001916</td>\n",
       "      <td>-0.016695</td>\n",
       "      <td>-0.033880</td>\n",
       "      <td>-0.002977</td>\n",
       "      <td>-0.037074</td>\n",
       "      <td>0.014130</td>\n",
       "    </tr>\n",
       "    <tr>\n",
       "      <th>a</th>\n",
       "      <td>0.021878</td>\n",
       "      <td>-0.027201</td>\n",
       "      <td>0.015973</td>\n",
       "      <td>0.021775</td>\n",
       "      <td>0.010877</td>\n",
       "      <td>0.029674</td>\n",
       "      <td>0.007320</td>\n",
       "      <td>0.031670</td>\n",
       "      <td>0.021283</td>\n",
       "      <td>0.021772</td>\n",
       "      <td>...</td>\n",
       "      <td>-0.010862</td>\n",
       "      <td>0.042232</td>\n",
       "      <td>0.039513</td>\n",
       "      <td>0.004146</td>\n",
       "      <td>-0.045278</td>\n",
       "      <td>0.005346</td>\n",
       "      <td>0.034323</td>\n",
       "      <td>0.009638</td>\n",
       "      <td>0.024745</td>\n",
       "      <td>-0.036660</td>\n",
       "    </tr>\n",
       "    <tr>\n",
       "      <th>the</th>\n",
       "      <td>-0.026226</td>\n",
       "      <td>-0.047757</td>\n",
       "      <td>0.038657</td>\n",
       "      <td>0.007546</td>\n",
       "      <td>-0.010249</td>\n",
       "      <td>0.005378</td>\n",
       "      <td>0.004800</td>\n",
       "      <td>-0.024317</td>\n",
       "      <td>-0.013206</td>\n",
       "      <td>0.049704</td>\n",
       "      <td>...</td>\n",
       "      <td>0.002810</td>\n",
       "      <td>-0.024930</td>\n",
       "      <td>0.004172</td>\n",
       "      <td>0.001219</td>\n",
       "      <td>0.005802</td>\n",
       "      <td>-0.017852</td>\n",
       "      <td>-0.034751</td>\n",
       "      <td>-0.034388</td>\n",
       "      <td>0.013388</td>\n",
       "      <td>-0.034134</td>\n",
       "    </tr>\n",
       "  </tbody>\n",
       "</table>\n",
       "<p>5 rows × 100 columns</p>\n",
       "</div>"
      ],
      "text/plain": [
       "                0         1         2         3         4         5   \\\n",
       "of        0.033338  0.016119  0.042000  0.009823  0.006772  0.012067   \n",
       "pleasure  0.007007  0.030600  0.015222 -0.042876  0.000134 -0.045702   \n",
       "pain      0.015987  0.047232 -0.030371  0.016748  0.029407  0.027022   \n",
       "a         0.021878 -0.027201  0.015973  0.021775  0.010877  0.029674   \n",
       "the      -0.026226 -0.047757  0.038657  0.007546 -0.010249  0.005378   \n",
       "\n",
       "                6         7         8         9   ...        90        91  \\\n",
       "of       -0.010208  0.027159  0.049581 -0.015044  ...  0.009810  0.026618   \n",
       "pleasure  0.027381 -0.034875  0.018496  0.015829  ... -0.007084  0.016335   \n",
       "pain      0.044325  0.016189  0.047599 -0.048728  ... -0.009575  0.007568   \n",
       "a         0.007320  0.031670  0.021283  0.021772  ... -0.010862  0.042232   \n",
       "the       0.004800 -0.024317 -0.013206  0.049704  ...  0.002810 -0.024930   \n",
       "\n",
       "                92        93        94        95        96        97  \\\n",
       "of        0.003227 -0.041501  0.001702  0.004501 -0.046012 -0.009292   \n",
       "pleasure -0.043365 -0.047175 -0.029347 -0.017310 -0.036235 -0.025692   \n",
       "pain     -0.036283  0.046010  0.001916 -0.016695 -0.033880 -0.002977   \n",
       "a         0.039513  0.004146 -0.045278  0.005346  0.034323  0.009638   \n",
       "the       0.004172  0.001219  0.005802 -0.017852 -0.034751 -0.034388   \n",
       "\n",
       "                98        99  \n",
       "of        0.045391 -0.037099  \n",
       "pleasure  0.001691  0.034270  \n",
       "pain     -0.037074  0.014130  \n",
       "a         0.024745 -0.036660  \n",
       "the       0.013388 -0.034134  \n",
       "\n",
       "[5 rows x 100 columns]"
      ]
     },
     "execution_count": 34,
     "metadata": {},
     "output_type": "execute_result"
    }
   ],
   "source": [
    "weights = cbow.get_weights()[0]\n",
    "weights = weights[1:]\n",
    "print(weights.shape)\n",
    "\n",
    "pd.DataFrame(weights, index=list(id2words.values())[1:]).head()"
   ]
  },
  {
   "cell_type": "markdown",
   "id": "dac16b55-feae-462b-a3c6-47d58a0284a8",
   "metadata": {},
   "source": [
    "## d. Output"
   ]
  },
  {
   "cell_type": "code",
   "execution_count": 35,
   "id": "3b47d7c0-0132-45d9-ace3-e79d9780b261",
   "metadata": {},
   "outputs": [
    {
     "name": "stdout",
     "output_type": "stream",
     "text": [
      "(101, 101)\n"
     ]
    }
   ],
   "source": [
    "distance_matrix = euclidean_distances(weights)\n",
    "print(distance_matrix.shape)"
   ]
  },
  {
   "cell_type": "code",
   "execution_count": 37,
   "id": "d5f14c45-0153-4d59-81b5-2834c23a3c65",
   "metadata": {},
   "outputs": [
    {
     "name": "stdin",
     "output_type": "stream",
     "text": [
      " explain\n"
     ]
    },
    {
     "data": {
      "text/plain": [
       "{'explain': ['must', 'how', 'rejects', 'explain', 'desires', 'who']}"
      ]
     },
     "execution_count": 37,
     "metadata": {},
     "output_type": "execute_result"
    }
   ],
   "source": [
    "inwords = input()\n",
    "\n",
    "similar_words={ search_term: [id2words[idx] for idx in distance_matrix[words2id[search_term]-1].argsort()[0:6]]\n",
    "              for search_term in {inwords}}\n",
    "similar_words"
   ]
  },
  {
   "cell_type": "code",
   "execution_count": null,
   "id": "a6ef7d46-5411-4feb-95b1-eaaba3ebde4a",
   "metadata": {},
   "outputs": [],
   "source": []
  }
 ],
 "metadata": {
  "kernelspec": {
   "display_name": "virtual_kernel",
   "language": "python",
   "name": "virtual_kernel"
  },
  "language_info": {
   "codemirror_mode": {
    "name": "ipython",
    "version": 3
   },
   "file_extension": ".py",
   "mimetype": "text/x-python",
   "name": "python",
   "nbconvert_exporter": "python",
   "pygments_lexer": "ipython3",
   "version": "3.11.5"
  }
 },
 "nbformat": 4,
 "nbformat_minor": 5
}
