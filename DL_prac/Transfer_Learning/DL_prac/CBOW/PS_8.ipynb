{
 "cells": [
  {
   "cell_type": "markdown",
   "id": "0b5c2928-1d12-4368-96bd-bfeed819cac3",
   "metadata": {},
   "source": [
    "## Problem Statement 6\n",
    "\n",
    "### Implement the Continuous Bag of Words (CBOW) Model for the given (textual document 1) using the below steps: \n",
    "    a. Data preparation \n",
    "    b. Generate training data \n",
    "    c. Train model\n",
    "    d. Output"
   ]
  },
  {
   "cell_type": "code",
   "execution_count": 2,
   "id": "979eedc3-4bc4-4f0d-848c-7f9fdd8cfb30",
   "metadata": {},
   "outputs": [],
   "source": [
    "from keras.preprocessing import text\n",
    "from keras.preprocessing import sequence\n",
    "from keras.preprocessing.text import Tokenizer\n",
    "from keras.preprocessing.sequence import pad_sequences\n",
    "\n",
    "from keras.src.utils import np_utils\n",
    "from keras import backend as K\n",
    "\n",
    "from keras.models import Sequential\n",
    "from keras.layers import Dense, Embedding, Lambda\n",
    "\n",
    "from sklearn.metrics.pairwise import euclidean_distances\n",
    "\n",
    "import numpy as np\n",
    "import pandas as pd"
   ]
  },
  {
   "cell_type": "code",
   "execution_count": 35,
   "id": "17a965cb-1868-4c89-a626-2ec8780a9e99",
   "metadata": {},
   "outputs": [],
   "source": [
    "file=open(\"CBOW.txt\",'w')"
   ]
  },
  {
   "cell_type": "code",
   "execution_count": 36,
   "id": "cf7703ca-b506-4046-8928-215d7bc882e8",
   "metadata": {},
   "outputs": [
    {
     "data": {
      "text/plain": [
       "1209"
      ]
     },
     "execution_count": 36,
     "metadata": {},
     "output_type": "execute_result"
    }
   ],
   "source": [
    "file.write(\n",
    "    \"\"\"\n",
    "    The speed of transmission is an important point of difference between the two viruses. Influenza has a shorter median incubation period (the time from infection to appearance of symptoms) and a shorter serial interval (the time between successive cases) than COVID-19 virus. The serial interval for COVID-19 virus is estimated to be 5-6 days, while for influenza virus, the serial interval is 3 days. This means that influenza can spread faster than COVID-19. \n",
    "\n",
    "Further, transmission in the first 3-5 days of illness, or potentially pre-symptomatic transmission â€“transmission of the virus before the appearance of symptoms â€“ is a major driver of transmission for influenza. In contrast, while we are learning that there are people who can shed COVID-19 virus 24-48 hours prior to symptom onset, at present, this does not appear to be a major driver of transmission. \n",
    "\n",
    "The reproductive number â€“ the number of secondary infections generated from one infected individual â€“ is understood to be between 2 and 2.5 for COVID-19 virus, higher than for influenza. However, estimates for both COVID-19 and influenza viruses are very context and time-specific, making direct comparisons more difficult.\n",
    "    \"\"\"\n",
    ")"
   ]
  },
  {
   "cell_type": "code",
   "execution_count": 37,
   "id": "e2e2b08e-8dba-464c-8ef4-a37f677cc78b",
   "metadata": {},
   "outputs": [],
   "source": [
    "file.close()"
   ]
  },
  {
   "cell_type": "code",
   "execution_count": 39,
   "id": "23d7ac56-abaa-448a-8e77-2097e3bbcfa4",
   "metadata": {},
   "outputs": [],
   "source": [
    "file=open(\"CBOW.txt\",'r')\n",
    "content=file.read()"
   ]
  },
  {
   "cell_type": "code",
   "execution_count": 41,
   "id": "220b61d6-eaa8-4d12-8d00-b49fe5acdfc3",
   "metadata": {},
   "outputs": [
    {
     "name": "stdout",
     "output_type": "stream",
     "text": [
      "\n",
      "    The speed of transmission is an important point of difference between the two viruses. Influenza has a shorter median incubation period (the time from infection to appearance of symptoms) and a shorter serial interval (the time between successive cases) than COVID-19 virus. The serial interval for COVID-19 virus is estimated to be 5-6 days, while for influenza virus, the serial interval is 3 days. This means that influenza can spread faster than COVID-19. \n",
      "\n",
      "Further, transmission in the first 3-5 days of illness, or potentially pre-symptomatic transmission â€“transmission of the virus before the appearance of symptoms â€“ is a major driver of transmission for influenza. In contrast, while we are learning that there are people who can shed COVID-19 virus 24-48 hours prior to symptom onset, at present, this does not appear to be a major driver of transmission. \n",
      "\n",
      "The reproductive number â€“ the number of secondary infections generated from one infected individual â€“ is understood to be between 2 and 2.5 for COVID-19 virus, higher than for influenza. However, estimates for both COVID-19 and influenza viruses are very context and time-specific, making direct comparisons more difficult.\n",
      "    \n"
     ]
    }
   ],
   "source": [
    "print(content)"
   ]
  },
  {
   "cell_type": "code",
   "execution_count": 42,
   "id": "0bfd71ea-0ddd-4b61-9256-c5a1b7a5d6e1",
   "metadata": {},
   "outputs": [],
   "source": [
    "data = \"\"\"The speed of transmission is an important point of difference between the two viruses. Influenza has a shorter median incubation period (the time from infection to appearance of symptoms) and a shorter serial interval (the time between successive cases) than COVID-19 virus. The serial interval for COVID-19 virus is estimated to be 5-6 days, while for influenza virus, the serial interval is 3 days. This means that influenza can spread faster than COVID-19. \n",
    "\n",
    "Further, transmission in the first 3-5 days of illness, or potentially pre-symptomatic transmission â€“transmission of the virus before the appearance of symptoms â€“ is a major driver of transmission for influenza. In contrast, while we are learning that there are people who can shed COVID-19 virus 24-48 hours prior to symptom onset, at present, this does not appear to be a major driver of transmission. \n",
    "\n",
    "The reproductive number â€“ the number of secondary infections generated from one infected individual â€“ is understood to be between 2 and 2.5 for COVID-19 virus, higher than for influenza. However, estimates for both COVID-19 and influenza viruses are very context and time-specific, making direct comparisons more difficult.\"\"\""
   ]
  },
  {
   "cell_type": "code",
   "execution_count": 43,
   "id": "c87fee82-1cbc-4700-bdf5-228eb51b898a",
   "metadata": {},
   "outputs": [],
   "source": [
    "dl_data=data.split()"
   ]
  },
  {
   "cell_type": "markdown",
   "id": "8777f130-95ee-4a71-ad60-638bad46b470",
   "metadata": {
    "scrolled": true
   },
   "source": [
    "# Data preparation"
   ]
  },
  {
   "cell_type": "code",
   "execution_count": 48,
   "id": "0a890652-ff74-43ee-8035-646a0c1470fb",
   "metadata": {},
   "outputs": [],
   "source": [
    "tokenizer=Tokenizer()\n",
    "tokenizer.fit_on_texts(dl_data)\n",
    "\n",
    "words2id = tokenizer.word_index\n",
    "words2id['PAD']=0\n",
    "\n",
    "id2words={v:k for k,v in words2id.items()}"
   ]
  },
  {
   "cell_type": "code",
   "execution_count": 49,
   "id": "d257aa85-8d0d-4a46-b724-246db4701b5c",
   "metadata": {},
   "outputs": [],
   "source": [
    "wids = [[words2id[w]for w in text.text_to_word_sequence(doc)] for doc in dl_data]"
   ]
  },
  {
   "cell_type": "code",
   "execution_count": 51,
   "id": "9b78eb57-2ba4-4f54-91d5-3e79260c8a79",
   "metadata": {},
   "outputs": [],
   "source": [
    "vocab_size=len(words2id)\n",
    "embed_size=100\n",
    "window_size=2"
   ]
  },
  {
   "cell_type": "code",
   "execution_count": 54,
   "id": "91ef3d60-0277-4469-9dd7-756f80e72f5d",
   "metadata": {},
   "outputs": [
    {
     "name": "stdout",
     "output_type": "stream",
     "text": [
      "103\n",
      "Vocabulary:  [('the', 1), ('of', 2), ('influenza', 3), ('covid', 4), ('19', 5), ('virus', 6), ('for', 7), ('transmission', 8), ('is', 9), ('to', 10)]\n"
     ]
    }
   ],
   "source": [
    "print(vocab_size)\n",
    "print(\"Vocabulary: \",list(words2id.items())[:10])"
   ]
  },
  {
   "cell_type": "markdown",
   "id": "8db858d4-8d11-4c26-bae9-e2fc25ab1c29",
   "metadata": {},
   "source": [
    "# Generate training data"
   ]
  },
  {
   "cell_type": "code",
   "execution_count": 64,
   "id": "96632654-3b25-48ee-b028-b40eb0ab0855",
   "metadata": {},
   "outputs": [],
   "source": [
    "def pairwise(corpus, window_size, vocab_size):\n",
    "    context_length = window_size*2\n",
    "\n",
    "    for words in corpus:\n",
    "        sentence_length=len(words)\n",
    "\n",
    "        for index, word in enumerate(words):\n",
    "            context_words=[]\n",
    "            label_word=[]\n",
    "            start=index-window_size\n",
    "            end=index + window_size + 1\n",
    "\n",
    "            context_words.append([ words[i] for i in range(start, end) if 0 <= i < sentence_length and i!=index])\n",
    "            label_word.append(word)\n",
    "\n",
    "            x = pad_sequences(context_words, maxlen=context_length)\n",
    "            y = np_utils.to_categorical(label_word, vocab_size)\n",
    "            yield(x,y)\n"
   ]
  },
  {
   "cell_type": "markdown",
   "id": "79d8bd2d-e065-4dac-8a38-9471b5ce0696",
   "metadata": {},
   "source": [
    "# Train Model"
   ]
  },
  {
   "cell_type": "code",
   "execution_count": 65,
   "id": "49ab658f-332f-4685-84cd-dc2c81bac011",
   "metadata": {},
   "outputs": [
    {
     "name": "stdout",
     "output_type": "stream",
     "text": [
      "Model: \"sequential_3\"\n",
      "_________________________________________________________________\n",
      " Layer (type)                Output Shape              Param #   \n",
      "=================================================================\n",
      " embedding_3 (Embedding)     (None, 4, 100)            10300     \n",
      "                                                                 \n",
      " lambda_3 (Lambda)           (None, 100)               0         \n",
      "                                                                 \n",
      " dense_3 (Dense)             (None, 103)               10403     \n",
      "                                                                 \n",
      "=================================================================\n",
      "Total params: 20703 (80.87 KB)\n",
      "Trainable params: 20703 (80.87 KB)\n",
      "Non-trainable params: 0 (0.00 Byte)\n",
      "_________________________________________________________________\n",
      "None\n"
     ]
    }
   ],
   "source": [
    "cbow = Sequential()\n",
    "cbow.add(Embedding(input_dim=vocab_size, output_dim=embed_size, input_length = window_size*2))\n",
    "cbow.add(Lambda(lambda x:K.mean(x, axis=1), output_shape=(embed_size,)))\n",
    "cbow.add(Dense(vocab_size, activation='softmax'))\n",
    "\n",
    "cbow.compile(loss='categorical_crossentropy', optimizer='rmsprop')\n",
    "print(cbow.summary())"
   ]
  },
  {
   "cell_type": "code",
   "execution_count": 66,
   "id": "c80b451e-977b-4fd7-8f95-90d4ff502bcb",
   "metadata": {},
   "outputs": [
    {
     "name": "stdout",
     "output_type": "stream",
     "text": [
      "Epoch:  1 Loss:  915.4748382568359\n",
      "\n",
      "Epoch:  2 Loss:  894.0665366649628\n",
      "\n",
      "Epoch:  3 Loss:  879.0914084911346\n",
      "\n",
      "Epoch:  4 Loss:  872.744843006134\n",
      "\n",
      "Epoch:  5 Loss:  868.3536374568939\n",
      "\n"
     ]
    }
   ],
   "source": [
    "for epoch in range(1,6):\n",
    "    loss=0\n",
    "    for x,y in pairwise(corpus=wids, window_size=window_size, vocab_size=vocab_size):\n",
    "        loss += cbow.train_on_batch(x,y)\n",
    "    print(\"Epoch: \",epoch, \"Loss: \", loss)\n",
    "    print()"
   ]
  },
  {
   "cell_type": "code",
   "execution_count": 72,
   "id": "5987f838-102a-4b57-9ca0-67ac8c25be0a",
   "metadata": {},
   "outputs": [
    {
     "name": "stdout",
     "output_type": "stream",
     "text": [
      "(102, 100)\n"
     ]
    }
   ],
   "source": [
    "weights=cbow.get_weights()[0]\n",
    "weights=weights[1:]\n",
    "print(weights.shape)"
   ]
  },
  {
   "cell_type": "code",
   "execution_count": 77,
   "id": "b21ca549-b55d-4e65-88a5-0691c0efc112",
   "metadata": {},
   "outputs": [
    {
     "name": "stdin",
     "output_type": "stream",
     "text": [
      " covid\n"
     ]
    },
    {
     "data": {
      "text/plain": [
       "{'covid': ['influenza', 'higher', 'major', 'important', 'this', 'understood']}"
      ]
     },
     "execution_count": 77,
     "metadata": {},
     "output_type": "execute_result"
    }
   ],
   "source": [
    "distance_matrix = euclidean_distances(weights)\n",
    "\n",
    "inwords=input()\n",
    "\n",
    "similar_words = {search_term: [id2words[idx] for idx in distance_matrix[words2id[search_term]-1].argsort()[0:6]]\n",
    "                              for search_term in {inwords}}\n",
    "\n",
    "similar_words"
   ]
  },
  {
   "cell_type": "code",
   "execution_count": null,
   "id": "6bfe5ff2-e9f7-43fa-8a55-34ad43a3ce7d",
   "metadata": {},
   "outputs": [],
   "source": []
  }
 ],
 "metadata": {
  "kernelspec": {
   "display_name": "virtual_kernel",
   "language": "python",
   "name": "virtual_kernel"
  },
  "language_info": {
   "codemirror_mode": {
    "name": "ipython",
    "version": 3
   },
   "file_extension": ".py",
   "mimetype": "text/x-python",
   "name": "python",
   "nbconvert_exporter": "python",
   "pygments_lexer": "ipython3",
   "version": "3.11.5"
  }
 },
 "nbformat": 4,
 "nbformat_minor": 5
}
